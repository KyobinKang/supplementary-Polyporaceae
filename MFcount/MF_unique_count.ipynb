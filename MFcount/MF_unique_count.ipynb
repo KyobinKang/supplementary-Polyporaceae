{
 "cells": [
  {
   "cell_type": "markdown",
   "metadata": {},
   "source": [
    "# Visualizaion of spectral node counts with molecular family uniqueness"
   ]
  },
  {
   "cell_type": "markdown",
   "metadata": {},
   "source": [
    "**Author**: Kyo Bin Kang (kbinkang@gmail.com) <br>\n",
    "\n",
    "**Input file format**: \n",
    "<ul>\n",
    "<li>**MS feature table** (.csv) with features in rows and samples in columns. Here we used a peak table retreived from Mzmine 2.</li>\n",
    "<li>**GNPS feature-based molecular networking output table** (.tsv) with features in rows and associated data in columns. This file can be found in your GNPS output (/clusterinfo_summary). </li> \n",
    "</ul><br>\n",
    "\n",
    "**Outputs**: A bar plot visualizing spectral node counts for each sample, with color showing uniqueness of molecular family. <br>"
   ]
  },
  {
   "cell_type": "code",
   "execution_count": 1,
   "metadata": {},
   "outputs": [
    {
     "name": "stderr",
     "output_type": "stream",
     "text": [
      "\n",
      "Attaching package: 'dplyr'\n",
      "\n",
      "The following objects are masked from 'package:stats':\n",
      "\n",
      "    filter, lag\n",
      "\n",
      "The following objects are masked from 'package:base':\n",
      "\n",
      "    intersect, setdiff, setequal, union\n",
      "\n",
      "\n",
      "Attaching package: 'reshape'\n",
      "\n",
      "The following object is masked from 'package:dplyr':\n",
      "\n",
      "    rename\n",
      "\n"
     ]
    }
   ],
   "source": [
    "library(stringr)\n",
    "library(dplyr)\n",
    "library(reshape)\n",
    "library(ggplot2)\n",
    "library(RColorBrewer)"
   ]
  },
  {
   "cell_type": "code",
   "execution_count": 2,
   "metadata": {},
   "outputs": [],
   "source": [
    "# Load data\n",
    "My.features <- read.table(\"Polyporaceae_Neg_mzmine200304_quant.csv\", sep = \",\", header=T, row.names = 1, comment.char=\"\")\n",
    "GNPS.table <- read.csv(\"f2128aea233542bbaf2d20e8c503c802.tsv\", sep = \"\\t\")\n",
    "My.features <- subset(My.features, select= -c(row.m.z, row.retention.time))\n",
    "colnames(My.features) <- str_replace_all(colnames(My.features), '_neg.mzXML.Peak.area','')"
   ]
  },
  {
   "cell_type": "code",
   "execution_count": 3,
   "metadata": {},
   "outputs": [],
   "source": [
    "# Remove singletons (of which component index values are -1)\n",
    "MF.features <- My.features[!(GNPS.table$componentindex == '-1'),]"
   ]
  },
  {
   "cell_type": "code",
   "execution_count": 4,
   "metadata": {},
   "outputs": [],
   "source": [
    "# Filter MS features with intensities under 100. If you did not perform a gap-filling in Mzmine, you can skip this step.\n",
    "MF.features[MF.features<100] <- 0\n",
    "MF.features[MF.features>=100] <- 1"
   ]
  },
  {
   "cell_type": "code",
   "execution_count": 5,
   "metadata": {},
   "outputs": [],
   "source": [
    "# Merge the feature table and the GNPS table to retrive component index\n",
    "ci <- GNPS.table$componentindex[!(GNPS.table$componentindex == '-1')]\n",
    "MF.features <- cbind(MF.features, ci)"
   ]
  },
  {
   "cell_type": "code",
   "execution_count": 6,
   "metadata": {},
   "outputs": [
    {
     "data": {
      "text/html": [
       "TRUE"
      ],
      "text/latex": [
       "TRUE"
      ],
      "text/markdown": [
       "TRUE"
      ],
      "text/plain": [
       "[1] TRUE"
      ]
     },
     "metadata": {},
     "output_type": "display_data"
    }
   ],
   "source": [
    "# Count the number of sample occurrences per molecular family\n",
    "ci.count <- aggregate(MF.features, list(componentindex = MF.features$ci), sum)\n",
    "all.equal(unique(ci[order(ci)]), ci.count$componentindex)"
   ]
  },
  {
   "cell_type": "code",
   "execution_count": 7,
   "metadata": {},
   "outputs": [
    {
     "data": {
      "text/html": [
       "<table>\n",
       "<thead><tr><th scope=col>componentindex</th><th scope=col>KMRB15070728</th><th scope=col>KMRB15070723</th><th scope=col>KMRB16032507</th><th scope=col>KMRB15070765</th><th scope=col>KMRB15062619</th><th scope=col>KMRB15090213</th><th scope=col>KMRB17070402</th><th scope=col>KMRB17080804</th><th scope=col>KMRB15081403</th><th scope=col>...</th><th scope=col>KMRB15080602</th><th scope=col>KMRB16011521</th><th scope=col>KMRB15090836</th><th scope=col>KMRB17061910</th><th scope=col>KMRB17083132</th><th scope=col>KMRB16041505</th><th scope=col>KMRB15102011</th><th scope=col>KMRB15061217</th><th scope=col>KMRB14070116</th><th scope=col>KMRB15090322</th></tr></thead>\n",
       "<tbody>\n",
       "\t<tr><td>1  </td><td>0  </td><td>0  </td><td>0  </td><td>0  </td><td>0  </td><td>0  </td><td>0  </td><td>0  </td><td>0  </td><td>...</td><td>0  </td><td>0  </td><td>0  </td><td>0  </td><td>0  </td><td>2  </td><td>0  </td><td>0  </td><td>0  </td><td>2  </td></tr>\n",
       "\t<tr><td>2  </td><td>0  </td><td>0  </td><td>0  </td><td>0  </td><td>0  </td><td>2  </td><td>0  </td><td>0  </td><td>0  </td><td>...</td><td>0  </td><td>0  </td><td>0  </td><td>0  </td><td>0  </td><td>0  </td><td>0  </td><td>0  </td><td>0  </td><td>0  </td></tr>\n",
       "\t<tr><td>3  </td><td>0  </td><td>0  </td><td>0  </td><td>0  </td><td>0  </td><td>0  </td><td>0  </td><td>0  </td><td>0  </td><td>...</td><td>0  </td><td>1  </td><td>0  </td><td>0  </td><td>0  </td><td>0  </td><td>0  </td><td>0  </td><td>0  </td><td>0  </td></tr>\n",
       "\t<tr><td>4  </td><td>0  </td><td>0  </td><td>0  </td><td>0  </td><td>0  </td><td>0  </td><td>2  </td><td>0  </td><td>0  </td><td>...</td><td>0  </td><td>1  </td><td>0  </td><td>0  </td><td>0  </td><td>0  </td><td>1  </td><td>0  </td><td>0  </td><td>0  </td></tr>\n",
       "\t<tr><td>5  </td><td>0  </td><td>0  </td><td>0  </td><td>0  </td><td>0  </td><td>0  </td><td>0  </td><td>0  </td><td>0  </td><td>...</td><td>3  </td><td>0  </td><td>0  </td><td>2  </td><td>0  </td><td>3  </td><td>3  </td><td>1  </td><td>0  </td><td>2  </td></tr>\n",
       "\t<tr><td>6  </td><td>0  </td><td>0  </td><td>0  </td><td>0  </td><td>0  </td><td>0  </td><td>0  </td><td>0  </td><td>0  </td><td>...</td><td>0  </td><td>2  </td><td>0  </td><td>0  </td><td>0  </td><td>2  </td><td>2  </td><td>0  </td><td>0  </td><td>0  </td></tr>\n",
       "</tbody>\n",
       "</table>\n"
      ],
      "text/latex": [
       "\\begin{tabular}{r|lllllllllllllllllllllllllllllllllllllllll}\n",
       " componentindex & KMRB15070728 & KMRB15070723 & KMRB16032507 & KMRB15070765 & KMRB15062619 & KMRB15090213 & KMRB17070402 & KMRB17080804 & KMRB15081403 & ... & KMRB15080602 & KMRB16011521 & KMRB15090836 & KMRB17061910 & KMRB17083132 & KMRB16041505 & KMRB15102011 & KMRB15061217 & KMRB14070116 & KMRB15090322\\\\\n",
       "\\hline\n",
       "\t 1   & 0   & 0   & 0   & 0   & 0   & 0   & 0   & 0   & 0   & ... & 0   & 0   & 0   & 0   & 0   & 2   & 0   & 0   & 0   & 2  \\\\\n",
       "\t 2   & 0   & 0   & 0   & 0   & 0   & 2   & 0   & 0   & 0   & ... & 0   & 0   & 0   & 0   & 0   & 0   & 0   & 0   & 0   & 0  \\\\\n",
       "\t 3   & 0   & 0   & 0   & 0   & 0   & 0   & 0   & 0   & 0   & ... & 0   & 1   & 0   & 0   & 0   & 0   & 0   & 0   & 0   & 0  \\\\\n",
       "\t 4   & 0   & 0   & 0   & 0   & 0   & 0   & 2   & 0   & 0   & ... & 0   & 1   & 0   & 0   & 0   & 0   & 1   & 0   & 0   & 0  \\\\\n",
       "\t 5   & 0   & 0   & 0   & 0   & 0   & 0   & 0   & 0   & 0   & ... & 3   & 0   & 0   & 2   & 0   & 3   & 3   & 1   & 0   & 2  \\\\\n",
       "\t 6   & 0   & 0   & 0   & 0   & 0   & 0   & 0   & 0   & 0   & ... & 0   & 2   & 0   & 0   & 0   & 2   & 2   & 0   & 0   & 0  \\\\\n",
       "\\end{tabular}\n"
      ],
      "text/markdown": [
       "\n",
       "componentindex | KMRB15070728 | KMRB15070723 | KMRB16032507 | KMRB15070765 | KMRB15062619 | KMRB15090213 | KMRB17070402 | KMRB17080804 | KMRB15081403 | ... | KMRB15080602 | KMRB16011521 | KMRB15090836 | KMRB17061910 | KMRB17083132 | KMRB16041505 | KMRB15102011 | KMRB15061217 | KMRB14070116 | KMRB15090322 | \n",
       "|---|---|---|---|---|---|\n",
       "| 1   | 0   | 0   | 0   | 0   | 0   | 0   | 0   | 0   | 0   | ... | 0   | 0   | 0   | 0   | 0   | 2   | 0   | 0   | 0   | 2   | \n",
       "| 2   | 0   | 0   | 0   | 0   | 0   | 2   | 0   | 0   | 0   | ... | 0   | 0   | 0   | 0   | 0   | 0   | 0   | 0   | 0   | 0   | \n",
       "| 3   | 0   | 0   | 0   | 0   | 0   | 0   | 0   | 0   | 0   | ... | 0   | 1   | 0   | 0   | 0   | 0   | 0   | 0   | 0   | 0   | \n",
       "| 4   | 0   | 0   | 0   | 0   | 0   | 0   | 2   | 0   | 0   | ... | 0   | 1   | 0   | 0   | 0   | 0   | 1   | 0   | 0   | 0   | \n",
       "| 5   | 0   | 0   | 0   | 0   | 0   | 0   | 0   | 0   | 0   | ... | 3   | 0   | 0   | 2   | 0   | 3   | 3   | 1   | 0   | 2   | \n",
       "| 6   | 0   | 0   | 0   | 0   | 0   | 0   | 0   | 0   | 0   | ... | 0   | 2   | 0   | 0   | 0   | 2   | 2   | 0   | 0   | 0   | \n",
       "\n",
       "\n"
      ],
      "text/plain": [
       "  componentindex KMRB15070728 KMRB15070723 KMRB16032507 KMRB15070765\n",
       "1 1              0            0            0            0           \n",
       "2 2              0            0            0            0           \n",
       "3 3              0            0            0            0           \n",
       "4 4              0            0            0            0           \n",
       "5 5              0            0            0            0           \n",
       "6 6              0            0            0            0           \n",
       "  KMRB15062619 KMRB15090213 KMRB17070402 KMRB17080804 KMRB15081403 ...\n",
       "1 0            0            0            0            0            ...\n",
       "2 0            2            0            0            0            ...\n",
       "3 0            0            0            0            0            ...\n",
       "4 0            0            2            0            0            ...\n",
       "5 0            0            0            0            0            ...\n",
       "6 0            0            0            0            0            ...\n",
       "  KMRB15080602 KMRB16011521 KMRB15090836 KMRB17061910 KMRB17083132 KMRB16041505\n",
       "1 0            0            0            0            0            2           \n",
       "2 0            0            0            0            0            0           \n",
       "3 0            1            0            0            0            0           \n",
       "4 0            1            0            0            0            0           \n",
       "5 3            0            0            2            0            3           \n",
       "6 0            2            0            0            0            2           \n",
       "  KMRB15102011 KMRB15061217 KMRB14070116 KMRB15090322\n",
       "1 0            0            0            2           \n",
       "2 0            0            0            0           \n",
       "3 0            0            0            0           \n",
       "4 1            0            0            0           \n",
       "5 3            1            0            2           \n",
       "6 2            0            0            0           "
      ]
     },
     "metadata": {},
     "output_type": "display_data"
    }
   ],
   "source": [
    "ci.count <- subset(ci.count, select = -c(ci))\n",
    "head(ci.count)"
   ]
  },
  {
   "cell_type": "code",
   "execution_count": 8,
   "metadata": {},
   "outputs": [],
   "source": [
    "# Calculate uniqueness index\n",
    "ui <- rowSums(ci.count[,-1] !=0)"
   ]
  },
  {
   "cell_type": "code",
   "execution_count": 9,
   "metadata": {},
   "outputs": [],
   "source": [
    "ci.count2 <- cbind(ci.count, ui)\n",
    "ci.count_melt <- melt(ci.count2, id.vars=c(\"componentindex\", \"ui\"))"
   ]
  },
  {
   "cell_type": "code",
   "execution_count": 10,
   "metadata": {},
   "outputs": [],
   "source": [
    "# Define the level of uniqueness index and color palette for visualization\n",
    "ui_levels <- (1:40)\n",
    "q1 <- rev(colorRampPalette(brewer.pal(9, \"YlOrRd\"))(40))"
   ]
  },
  {
   "cell_type": "code",
   "execution_count": 11,
   "metadata": {},
   "outputs": [
    {
     "data": {},
     "metadata": {},
     "output_type": "display_data"
    },
    {
     "data": {
      "image/png": "[encoded data removed]",
      "text/plain": [
       "plot without title"
      ]
     },
     "metadata": {},
     "output_type": "display_data"
    }
   ],
   "source": [
    "# Plot the bar plot with a legend\n",
    "ggplot(ci.count_melt, aes(fill=factor(ui, levels = ui_levels), y=value, x=reorder(variable, value))) + \n",
    "    scale_fill_manual(values = q1) +\n",
    "    geom_bar(position=\"stack\", stat=\"identity\") +\n",
    "    theme_bw() +\n",
    "    theme(axis.text.x = element_text(vjust = 0.5, hjust=1)) +\n",
    "    coord_flip()"
   ]
  },
  {
   "cell_type": "code",
   "execution_count": 12,
   "metadata": {},
   "outputs": [
    {
     "data": {},
     "metadata": {},
     "output_type": "display_data"
    },
    {
     "data": {
      "image/png": "[encoded data removed]",
      "text/plain": [
       "plot without title"
      ]
     },
     "metadata": {},
     "output_type": "display_data"
    }
   ],
   "source": [
    "# Plot the bar plot without a legend\n",
    "ggplot(ci.count_melt, aes(fill=factor(ui, levels = ui_levels), y=value, x=reorder(variable, value))) + \n",
    "    scale_fill_manual(values = q1) +\n",
    "    geom_bar(position=\"stack\", stat=\"identity\") +\n",
    "    theme_bw() +\n",
    "    theme(axis.text.x = element_text(vjust = 0.5, hjust=1)) +\n",
    "    theme(legend.title = element_blank()) + \n",
    "    theme(legend.position = 'none') + \n",
    "    coord_flip()"
   ]
  },
  {
   "cell_type": "code",
   "execution_count": null,
   "metadata": {},
   "outputs": [],
   "source": []
  }
 ],
 "metadata": {
  "kernelspec": {
   "display_name": "R",
   "language": "R",
   "name": "ir"
  },
  "language_info": {
   "codemirror_mode": "r",
   "file_extension": ".r",
   "mimetype": "text/x-r-source",
   "name": "R",
   "pygments_lexer": "r",
   "version": "3.4.3"
  }
 },
 "nbformat": 4,
 "nbformat_minor": 2
}
