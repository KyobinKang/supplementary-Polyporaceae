{
 "cells": [
  {
   "cell_type": "markdown",
   "metadata": {},
   "source": [
    "# Calculate CSCS Distance and visualize it through PCoA and HCA"
   ]
  },
  {
   "cell_type": "code",
   "execution_count": 1,
   "metadata": {},
   "outputs": [],
   "source": [
    "##install rCSCS package if it is not installed\n",
    "#devtools::install_github(\"askerdb/rCSCS\")"
   ]
  },
  {
   "cell_type": "markdown",
   "metadata": {},
   "source": [
    "## Calculate CSCS Distance"
   ]
  },
  {
   "cell_type": "code",
   "execution_count": 2,
   "metadata": {},
   "outputs": [
    {
     "name": "stderr",
     "output_type": "stream",
     "text": [
      "\n",
      "---------------------\n",
      "Welcome to dendextend version 1.5.2\n",
      "Type citation('dendextend') for how to cite the package.\n",
      "\n",
      "Type browseVignettes(package = 'dendextend') for the package vignette.\n",
      "The github page is: https://github.com/talgalili/dendextend/\n",
      "\n",
      "Suggestions and bug-reports can be submitted at: https://github.com/talgalili/dendextend/issues\n",
      "Or contact: <tal.galili@gmail.com>\n",
      "\n",
      "\tTo suppress this message use:  suppressPackageStartupMessages(library(dendextend))\n",
      "---------------------\n",
      "\n",
      "\n",
      "Attaching package: 'dendextend'\n",
      "\n",
      "The following object is masked from 'package:stats':\n",
      "\n",
      "    cutree\n",
      "\n"
     ]
    }
   ],
   "source": [
    "library(rCSCS)\n",
    "library(stringr)\n",
    "library(dendextend)"
   ]
  },
  {
   "cell_type": "code",
   "execution_count": 3,
   "metadata": {},
   "outputs": [],
   "source": [
    "# Import GNPS data\n",
    "My.features <- read.table(\"Polyporaceae_Neg_mzmine200304_quant.csv\", sep = \",\", row.names = 1, header=T, comment.char=\"\")\n",
    "Meta.Inf <- read.table(\"Metadata_Polyporaceae_Neg200304.txt\", sep = \"\\t\", header=TRUE)\n",
    "My.css <- prepare_css(\"d4c050a864be48ffb8f6e880bd617988.selfloop\")\n",
    "My.features <- subset(My.features, select= -c(row.m.z, row.retention.time))\n",
    "colnames(My.features) <- str_replace_all(colnames(My.features), '.Peak.area','')"
   ]
  },
  {
   "cell_type": "code",
   "execution_count": 4,
   "metadata": {},
   "outputs": [],
   "source": [
    "# ion intensity 100 cutoff\n",
    "My.features[My.features<100] <- 0"
   ]
  },
  {
   "cell_type": "code",
   "execution_count": 5,
   "metadata": {},
   "outputs": [
    {
     "name": "stderr",
     "output_type": "stream",
     "text": [
      "Warning message:\n",
      "\"executing %dopar% sequentially: no parallel backend registered\""
     ]
    }
   ],
   "source": [
    "# Run Unweighted CSCS\n",
    "gnps.Unw_ccs <- cscs(My.features, My.css, cosine_threshold = 0.7, weighted = FALSE)"
   ]
  },
  {
   "cell_type": "code",
   "execution_count": 6,
   "metadata": {},
   "outputs": [],
   "source": [
    "# Run Weighted CSCS\n",
    "gnps.W_ccs <- cscs(My.features, My.css, cosine_threshold = 0.7, weighted = TRUE)"
   ]
  },
  {
   "cell_type": "code",
   "execution_count": 7,
   "metadata": {},
   "outputs": [],
   "source": [
    "write.table(as.matrix(gnps.Unw_ccs),\"unwCSCS_distance_Polyporaceae_200304.tsv\",sep=\"\\t\",row.names = T,col.names = NA, quote = F)\n",
    "write.table(as.matrix(gnps.W_ccs),\"wCSCS_distance_Polyporaceae_200304.tsv\",sep=\"\\t\",row.names = T,col.names = NA, quote = F)"
   ]
  },
  {
   "cell_type": "markdown",
   "metadata": {},
   "source": [
    "## PCoA Plot in Qiime2\n",
    "\n",
    "### This section should be performed in Qiime 2 environment."
   ]
  },
  {
   "cell_type": "code",
   "execution_count": null,
   "metadata": {},
   "outputs": [],
   "source": [
    "! qiime tools import --type DistanceMatrix \\\n",
    "    --input-path wCSCS_Polyporaceae_200304.tsv \\\n",
    "    --output-path wCSCS_Polyporaceae.qza"
   ]
  },
  {
   "cell_type": "code",
   "execution_count": null,
   "metadata": {},
   "outputs": [],
   "source": [
    "! qiime diversity pcoa \\\n",
    "    --i-distance-matrix wCSCS_Polyporaceae.qza \\\n",
    "    --o-pcoa wCSCS_Polyporaceae_PCoA.qza"
   ]
  },
  {
   "cell_type": "code",
   "execution_count": null,
   "metadata": {},
   "outputs": [],
   "source": [
    "! qiime emperor plot \\\n",
    "    --i-pcoa wCSCS_Polyporaceae_PCoA.qza \\\n",
    "    --m-metadata-file Metadata_Polyporaceae_Neg200304_for_Qiime.txt \\\n",
    "    --o-visualization wCSCS_Polyporaceae.qzv"
   ]
  },
  {
   "cell_type": "markdown",
   "metadata": {},
   "source": [
    "## Hierarchical clustering analysis for drawing chemodendrogram"
   ]
  },
  {
   "cell_type": "code",
   "execution_count": 8,
   "metadata": {},
   "outputs": [],
   "source": [
    "## HCA with unWCSCS\n",
    "gnps.Unw_ccs.hc <- hclust(gnps.Unw_ccs,method = \"ward.D\")\n",
    "gnps.Unw_ccs.dend <- as.dendrogram(gnps.Unw_ccs.hc)\n",
    "labels(gnps.Unw_ccs.dend) <- Meta.Inf$ATTRIBUTE_Species[gnps.Unw_ccs.hc$order]"
   ]
  },
  {
   "cell_type": "code",
   "execution_count": 9,
   "metadata": {},
   "outputs": [
    {
     "data": {
      "image/png": "[encoded data removed]",
      "text/plain": [
       "Plot with title \"Polyporaceae_200306 (unwCSCS)\""
      ]
     },
     "metadata": {},
     "output_type": "display_data"
    }
   ],
   "source": [
    "gnps.Unw_ccs.dend <- set(gnps.Unw_ccs.dend, \"labels_cex\", 0.6)\n",
    "plot(gnps.Unw_ccs.dend, cex = 0.6, main=\"Polyporaceae_200306 (unwCSCS)\")"
   ]
  },
  {
   "cell_type": "code",
   "execution_count": 10,
   "metadata": {},
   "outputs": [],
   "source": [
    "## HCA with wCSCS\n",
    "gnps.W_ccs.hc <- hclust(gnps.W_ccs,method = \"ward.D\")\n",
    "gnps.W_ccs.dend <- as.dendrogram(gnps.W_ccs.hc)\n",
    "labels(gnps.W_ccs.dend) <- Meta.Inf$ATTRIBUTE_Species[gnps.W_ccs.hc$order]"
   ]
  },
  {
   "cell_type": "code",
   "execution_count": 11,
   "metadata": {},
   "outputs": [
    {
     "data": {
      "image/png": "[encoded data removed]",
      "text/plain": [
       "Plot with title \"Polyporaceae_200306 (wCSCS)\""
      ]
     },
     "metadata": {},
     "output_type": "display_data"
    }
   ],
   "source": [
    "gnps.W_ccs.dend <- set(gnps.W_ccs.dend, \"labels_cex\", 0.55)\n",
    "plot(gnps.W_ccs.dend, cex = 0.6, main=\"Polyporaceae_200306 (wCSCS)\")"
   ]
  },
  {
   "cell_type": "code",
   "execution_count": null,
   "metadata": {},
   "outputs": [],
   "source": []
  }
 ],
 "metadata": {
  "kernelspec": {
   "display_name": "R",
   "language": "R",
   "name": "ir"
  },
  "language_info": {
   "codemirror_mode": "r",
   "file_extension": ".r",
   "mimetype": "text/x-r-source",
   "name": "R",
   "pygments_lexer": "r",
   "version": "3.4.3"
  }
 },
 "nbformat": 4,
 "nbformat_minor": 2
}
